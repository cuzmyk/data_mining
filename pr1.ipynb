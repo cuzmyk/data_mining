{
  "nbformat": 4,
  "nbformat_minor": 0,
  "metadata": {
    "colab": {
      "provenance": [],
      "include_colab_link": true
    },
    "kernelspec": {
      "name": "python3",
      "display_name": "Python 3"
    },
    "language_info": {
      "name": "python"
    }
  },
  "cells": [
    {
      "cell_type": "markdown",
      "metadata": {
        "id": "view-in-github",
        "colab_type": "text"
      },
      "source": [
        "<a href=\"https://colab.research.google.com/github/cuzmyk/data_mining/blob/main/pr1.ipynb\" target=\"_parent\"><img src=\"https://colab.research.google.com/assets/colab-badge.svg\" alt=\"Open In Colab\"/></a>"
      ]
    },
    {
      "cell_type": "markdown",
      "source": [
        "# Практическая работа №2. Библиотека Numpy"
      ],
      "metadata": {
        "id": "UWwDMeEJKRm-"
      }
    },
    {
      "cell_type": "markdown",
      "source": [
        "## Полезные материалы\n",
        "- [Блокнот с полной теорией](https://colab.research.google.com/drive/1JlqwrIRsmnc9rW6Tj1XNgrtk--43dKvT?usp=sharing)\n",
        "- [Блокнот с краткой теорией](https://colab.research.google.com/drive/1elIYEseXIidm5UUXnjgzWUehisw_OQ0w?usp=sharing)\n",
        "- [Шпаргалка по numpy](https://s3.amazonaws.com/assets.datacamp.com/blog_assets/Numpy_Python_Cheat_Sheet.pdf)\n",
        "- [Numpy quick start](https://docs.scipy.org/doc/numpy/user/quickstart.html)\n",
        "- [Datacamp numpy tutorial](https://www.datacamp.com/community/tutorials/python-numpy-tutorial)"
      ],
      "metadata": {
        "id": "9jGLF6idKPrn"
      }
    },
    {
      "cell_type": "markdown",
      "source": [
        "## **Блок №1. Базовый уровень**"
      ],
      "metadata": {
        "id": "mVaRu-_wJJYV"
      }
    },
    {
      "cell_type": "markdown",
      "source": [
        "Установите зависимость с библиотекой NumPy:"
      ],
      "metadata": {
        "id": "gAEs6SaMMmzx"
      }
    },
    {
      "cell_type": "code",
      "source": [
        "# Ваш код\n",
        "import numpy as np"
      ],
      "metadata": {
        "id": "GqZb9OydMn0V"
      },
      "execution_count": null,
      "outputs": []
    },
    {
      "cell_type": "markdown",
      "source": [
        "### **Задание №1. Создание массивов:**"
      ],
      "metadata": {
        "id": "JK4lWYl2OAKA"
      }
    },
    {
      "cell_type": "markdown",
      "source": [
        "а) Создайте одномерный массив из 10 нулей:\n"
      ],
      "metadata": {
        "id": "tlxGmZzNN_B3"
      }
    },
    {
      "cell_type": "code",
      "source": [
        "# Ваш код\n",
        "zeros_array = np.zeros(10)\n",
        "print(zeros_array)"
      ],
      "metadata": {
        "id": "_dv6zFBzN_PH",
        "colab": {
          "base_uri": "https://localhost:8080/"
        },
        "outputId": "9d64dced-3c51-4c45-dc03-beffab9b15c8"
      },
      "execution_count": null,
      "outputs": [
        {
          "output_type": "stream",
          "name": "stdout",
          "text": [
            "[0. 0. 0. 0. 0. 0. 0. 0. 0. 0.]\n"
          ]
        }
      ]
    },
    {
      "cell_type": "markdown",
      "source": [
        "б) Создайте двумерный массив с размерностью 5x5, заполненный единицами:"
      ],
      "metadata": {
        "id": "lE5txzg1N_YO"
      }
    },
    {
      "cell_type": "code",
      "source": [
        "# Ваш код\n",
        "ones_array = np.ones((5, 5))\n",
        "print(ones_array)"
      ],
      "metadata": {
        "id": "TCCsY7EJN_hY",
        "colab": {
          "base_uri": "https://localhost:8080/"
        },
        "outputId": "760d2210-b00c-429f-c06e-8c495c8eec19"
      },
      "execution_count": null,
      "outputs": [
        {
          "output_type": "stream",
          "name": "stdout",
          "text": [
            "[[1. 1. 1. 1. 1.]\n",
            " [1. 1. 1. 1. 1.]\n",
            " [1. 1. 1. 1. 1.]\n",
            " [1. 1. 1. 1. 1.]\n",
            " [1. 1. 1. 1. 1.]]\n"
          ]
        }
      ]
    },
    {
      "cell_type": "markdown",
      "source": [
        "в) Создайте массив с размерностью 3x3x3 со случайными значениями:"
      ],
      "metadata": {
        "id": "ewdOYjTSN_p-"
      }
    },
    {
      "cell_type": "code",
      "source": [
        "# Ваш код\n",
        "random_array = np.random.rand(3, 3, 3)\n",
        "print(random_array)"
      ],
      "metadata": {
        "id": "UT2FWQ8jN_zE",
        "colab": {
          "base_uri": "https://localhost:8080/"
        },
        "outputId": "30a894fc-989d-46c0-b463-9e9c2f448f18"
      },
      "execution_count": null,
      "outputs": [
        {
          "output_type": "stream",
          "name": "stdout",
          "text": [
            "[[[0.05901339 0.6842541  0.92824984]\n",
            "  [0.17609774 0.21404296 0.08487049]\n",
            "  [0.37200418 0.23654868 0.35136898]]\n",
            "\n",
            " [[0.75511895 0.54526859 0.89975316]\n",
            "  [0.31260151 0.87220257 0.53186955]\n",
            "  [0.11736428 0.71925156 0.26216879]]\n",
            "\n",
            " [[0.55689193 0.32915601 0.07115853]\n",
            "  [0.44859575 0.96235823 0.273023  ]\n",
            "  [0.36797949 0.02088253 0.08223113]]]\n"
          ]
        }
      ]
    },
    {
      "cell_type": "markdown",
      "source": [
        "### **Задание №2. Индексация и срезы:**"
      ],
      "metadata": {
        "id": "tU02ZhoCTWlS"
      }
    },
    {
      "cell_type": "markdown",
      "source": [
        "а) Извлеките второй элемент из созданного одномерного массива нулей:"
      ],
      "metadata": {
        "id": "28eFhkdPTXHL"
      }
    },
    {
      "cell_type": "code",
      "source": [
        "# Ваш код\n",
        "second_el = zeros_array[1]\n",
        "print(second_el)"
      ],
      "metadata": {
        "id": "nwpFpMOMTXP5",
        "colab": {
          "base_uri": "https://localhost:8080/"
        },
        "outputId": "814f74e1-7c92-42a7-9436-562d7b4127f8"
      },
      "execution_count": null,
      "outputs": [
        {
          "output_type": "stream",
          "name": "stdout",
          "text": [
            "0.0\n"
          ]
        }
      ]
    },
    {
      "cell_type": "markdown",
      "source": [
        "б) Выберите вторую строку из двумерного массива единиц:"
      ],
      "metadata": {
        "id": "8WHTy4tBTXZP"
      }
    },
    {
      "cell_type": "code",
      "source": [
        "# Ваш код\n",
        "second_row = ones_array[1]\n",
        "print(second_row)"
      ],
      "metadata": {
        "id": "V1P2NYcCTXhm",
        "colab": {
          "base_uri": "https://localhost:8080/"
        },
        "outputId": "f1a0cdf2-e9a7-46b1-acf4-7fe41f23a647"
      },
      "execution_count": null,
      "outputs": [
        {
          "output_type": "stream",
          "name": "stdout",
          "text": [
            "[1. 1. 1. 1. 1.]\n"
          ]
        }
      ]
    },
    {
      "cell_type": "markdown",
      "source": [
        "в) Получите первые два элемента каждой строки из двумерного массива единиц:"
      ],
      "metadata": {
        "id": "5KgLWq-dTXqb"
      }
    },
    {
      "cell_type": "code",
      "source": [
        "# Ваш код\n",
        "first_two_elements = ones_array[:, :2]\n",
        "print(first_two_elements)"
      ],
      "metadata": {
        "id": "4WcPrgnPTXzU",
        "colab": {
          "base_uri": "https://localhost:8080/"
        },
        "outputId": "cc91161f-9baa-45a3-d088-1a1410b245a5"
      },
      "execution_count": null,
      "outputs": [
        {
          "output_type": "stream",
          "name": "stdout",
          "text": [
            "[[1. 1.]\n",
            " [1. 1.]\n",
            " [1. 1.]\n",
            " [1. 1.]\n",
            " [1. 1.]]\n"
          ]
        }
      ]
    },
    {
      "cell_type": "markdown",
      "source": [
        "### **Задание №3. Операции над массивами:**"
      ],
      "metadata": {
        "id": "FgQeTh6HT0IS"
      }
    },
    {
      "cell_type": "markdown",
      "source": [
        "   а) Прибавьте 10 ко всем элементам одномерного массива нулей:\n"
      ],
      "metadata": {
        "id": "F82FPZACT5oN"
      }
    },
    {
      "cell_type": "code",
      "source": [
        "# Ваш код\n",
        "tens_array = zeros_array + 10\n",
        "print(tens_array)"
      ],
      "metadata": {
        "id": "m9fI1QqDT0Rt",
        "colab": {
          "base_uri": "https://localhost:8080/"
        },
        "outputId": "0fe6abdd-ec82-4c25-9d04-a304bca7b065"
      },
      "execution_count": null,
      "outputs": [
        {
          "output_type": "stream",
          "name": "stdout",
          "text": [
            "[10. 10. 10. 10. 10. 10. 10. 10. 10. 10.]\n"
          ]
        }
      ]
    },
    {
      "cell_type": "markdown",
      "source": [
        "   б) Умножьте каждый элемент двумерного массива единиц на 3:\n"
      ],
      "metadata": {
        "id": "gpQNryfsT0cG"
      }
    },
    {
      "cell_type": "code",
      "source": [
        "# Ваш код\n",
        "threes_array = ones_array * 3\n",
        "print(threes_array)"
      ],
      "metadata": {
        "id": "R12ZIAB2T0uf",
        "colab": {
          "base_uri": "https://localhost:8080/"
        },
        "outputId": "39cba7f3-ff82-40b4-894d-0dc5edc54977"
      },
      "execution_count": null,
      "outputs": [
        {
          "output_type": "stream",
          "name": "stdout",
          "text": [
            "[[3. 3. 3. 3. 3.]\n",
            " [3. 3. 3. 3. 3.]\n",
            " [3. 3. 3. 3. 3.]\n",
            " [3. 3. 3. 3. 3.]\n",
            " [3. 3. 3. 3. 3.]]\n"
          ]
        }
      ]
    },
    {
      "cell_type": "markdown",
      "source": [
        "   в) Вычислите сумму всех элементов в массиве 3x3x3 со случайными значениями:"
      ],
      "metadata": {
        "id": "8SqSUA7WT04G"
      }
    },
    {
      "cell_type": "code",
      "source": [
        "# Ваш код\n",
        "total_sum = np.sum(random_array)\n",
        "print(total_sum)"
      ],
      "metadata": {
        "id": "kaeUhPVwT1CH",
        "colab": {
          "base_uri": "https://localhost:8080/"
        },
        "outputId": "93419bb3-3475-43b9-e70b-4488cf13bb1c"
      },
      "execution_count": null,
      "outputs": [
        {
          "output_type": "stream",
          "name": "stdout",
          "text": [
            "11.234325939336614\n"
          ]
        }
      ]
    },
    {
      "cell_type": "markdown",
      "source": [
        "### **Задание №4. Использование функций и методов NumPy:**\n"
      ],
      "metadata": {
        "id": "HXn8PQr9T1NU"
      }
    },
    {
      "cell_type": "markdown",
      "source": [
        "   а) Найдите максимальное и минимальное значения в массиве 3x3x3:\n"
      ],
      "metadata": {
        "id": "oaxWxrQRUkEU"
      }
    },
    {
      "cell_type": "code",
      "source": [
        "# Ваш код\n",
        "max_value = np.max(random_array)\n",
        "min_value = np.min(random_array)\n",
        "\n",
        "print(\"Макс:\", max_value)\n",
        "print(\"Мин\", min_value)"
      ],
      "metadata": {
        "id": "PERZ4zSHUldF",
        "colab": {
          "base_uri": "https://localhost:8080/"
        },
        "outputId": "552c89dd-341c-4880-ce20-634adb722935"
      },
      "execution_count": null,
      "outputs": [
        {
          "output_type": "stream",
          "name": "stdout",
          "text": [
            "Макс: 0.9623582310599544\n",
            "Мин 0.020882533283849924\n"
          ]
        }
      ]
    },
    {
      "cell_type": "markdown",
      "source": [
        "   б) Вычислите среднее значение всех элементов в одномерном массиве нулей после добавления к ним числа 10:\n"
      ],
      "metadata": {
        "id": "EayPENXwUlms"
      }
    },
    {
      "cell_type": "code",
      "source": [
        "# Ваш код\n",
        "mean_value = np.mean(tens_array)\n",
        "print(mean_value)"
      ],
      "metadata": {
        "id": "iJNG1XfCUlzN",
        "colab": {
          "base_uri": "https://localhost:8080/"
        },
        "outputId": "686f3f22-166c-4b8b-ef0b-dbd62b4d1d4f"
      },
      "execution_count": null,
      "outputs": [
        {
          "output_type": "stream",
          "name": "stdout",
          "text": [
            "10.0\n"
          ]
        }
      ]
    },
    {
      "cell_type": "markdown",
      "source": [
        "   в) Используйте функцию `np.reshape` для изменения формы одномерного массива нулей в двумерный массив 2x5:"
      ],
      "metadata": {
        "id": "3z_yaICNUl7R"
      }
    },
    {
      "cell_type": "code",
      "source": [
        "# Ваш код\n",
        "reshaped_array = np.reshape(zeros_array, (2, 5))\n",
        "print(reshaped_array)"
      ],
      "metadata": {
        "id": "ioynkOn4T1XS",
        "colab": {
          "base_uri": "https://localhost:8080/"
        },
        "outputId": "c248af85-f1c7-47a0-dbd3-c02d98059d19"
      },
      "execution_count": null,
      "outputs": [
        {
          "output_type": "stream",
          "name": "stdout",
          "text": [
            "[[0. 0. 0. 0. 0.]\n",
            " [0. 0. 0. 0. 0.]]\n"
          ]
        }
      ]
    },
    {
      "cell_type": "markdown",
      "source": [
        "### **Задание №5. Логическая индексация:**"
      ],
      "metadata": {
        "id": "helc8jP2XVZx"
      }
    },
    {
      "cell_type": "markdown",
      "source": [
        "а) Создайте двумерный массив 4x4 со случайными целыми числами от 0 до 100. Затем выберите из этого массива все элементы, которые больше 70:"
      ],
      "metadata": {
        "id": "p6zDSpnvXlz9"
      }
    },
    {
      "cell_type": "code",
      "source": [
        "# Ваш код\n",
        "random_array = np.random.randint(0, 101, size=(4, 4))\n",
        "required_elements = random_array[random_array > 70]\n",
        "\n",
        "print(\"Двумерный массив 4x4 со случайными целыми числами:\\n\", random_array)\n",
        "print(\"Элементы, которые больше 70:\\n\", required_elements)"
      ],
      "metadata": {
        "id": "93u2gqeqXlQP",
        "colab": {
          "base_uri": "https://localhost:8080/"
        },
        "outputId": "f2eb125a-495c-42ca-9a17-0113456288bd"
      },
      "execution_count": null,
      "outputs": [
        {
          "output_type": "stream",
          "name": "stdout",
          "text": [
            "Двумерный массив 4x4 со случайными целыми числами:\n",
            " [[76 87 66 57]\n",
            " [87 16 14 77]\n",
            " [68 52 83 24]\n",
            " [92 84 64 86]]\n",
            "Элементы, которые больше 70:\n",
            " [76 87 87 77 83 92 84 86]\n"
          ]
        }
      ]
    },
    {
      "cell_type": "markdown",
      "source": [
        "б) Значения элементов, которые меньше 50, замените на 0:"
      ],
      "metadata": {
        "id": "l1i_sIHzXn5W"
      }
    },
    {
      "cell_type": "code",
      "source": [
        "# Ваш код\n",
        "random_array[random_array < 50] = 0\n",
        "print(random_array)"
      ],
      "metadata": {
        "id": "iWzeoWw1Xhxw",
        "colab": {
          "base_uri": "https://localhost:8080/"
        },
        "outputId": "7ee2053e-2006-4407-b91b-8c8c977e3cc5"
      },
      "execution_count": null,
      "outputs": [
        {
          "output_type": "stream",
          "name": "stdout",
          "text": [
            "[[76 87 66 57]\n",
            " [87  0  0 77]\n",
            " [68 52 83  0]\n",
            " [92 84 64 86]]\n"
          ]
        }
      ]
    },
    {
      "cell_type": "markdown",
      "source": [
        "### **Задание №6. Линейная алгебра:**"
      ],
      "metadata": {
        "id": "NJ1lWy6-N5m_"
      }
    },
    {
      "cell_type": "markdown",
      "source": [
        "   а) Создайте два массива размером 3x3 и выполните их матричное умножение:\n"
      ],
      "metadata": {
        "id": "jaQIn50xLamu"
      }
    },
    {
      "cell_type": "code",
      "source": [
        "# Ваш код\n",
        "f = np.random.randint(0, 101, (3, 3))\n",
        "s = np.random.randint(0, 101, (3, 3))\n",
        "prod = np.dot(f, s)\n",
        "print('Первый массив:\\n',f)\n",
        "print('Второй массив:\\n',s)\n",
        "print('Произведение:\\n', prod)"
      ],
      "metadata": {
        "id": "g6eIJi9gLZpP",
        "colab": {
          "base_uri": "https://localhost:8080/"
        },
        "outputId": "a68ce29a-1092-42c3-97fb-463c3893610b"
      },
      "execution_count": null,
      "outputs": [
        {
          "output_type": "stream",
          "name": "stdout",
          "text": [
            "Первый массив:\n",
            " [[94 54 13]\n",
            " [88 34 10]\n",
            " [37 91 82]]\n",
            "Второй массив:\n",
            " [[93 56 15]\n",
            " [60 51 94]\n",
            " [61 76 56]]\n",
            "Произведение:\n",
            " [[12775  9006  7214]\n",
            " [10834  7422  5076]\n",
            " [13903 12945 13701]]\n"
          ]
        }
      ]
    },
    {
      "cell_type": "markdown",
      "source": [
        "   б) Найдите обратную матрицу для созданного двумерного массива 3x3:"
      ],
      "metadata": {
        "id": "sU9iKaD4LZ9y"
      }
    },
    {
      "cell_type": "code",
      "execution_count": null,
      "metadata": {
        "id": "FOvGFepkJEcl",
        "colab": {
          "base_uri": "https://localhost:8080/"
        },
        "outputId": "11586c14-069d-4ecd-8fbf-f4a705e88fa3"
      },
      "outputs": [
        {
          "output_type": "stream",
          "name": "stdout",
          "text": [
            "[[-0.0178175   0.03078689 -0.00092977]\n",
            " [ 0.06495133 -0.06856606 -0.00193545]\n",
            " [-0.06404053  0.06219996  0.01476253]]\n"
          ]
        }
      ],
      "source": [
        "# Ваш код\n",
        "inverse_matrix = np.linalg.inv(f)\n",
        "print(inverse_matrix)"
      ]
    },
    {
      "cell_type": "markdown",
      "source": [
        "## **Блок №2. Средний уровень**"
      ],
      "metadata": {
        "id": "S_uDFvYKLIne"
      }
    },
    {
      "cell_type": "markdown",
      "source": [
        "### **Задание №1. Работа с многомерными массивами:**\n",
        "   \n"
      ],
      "metadata": {
        "id": "qn-Boi-YZIpm"
      }
    },
    {
      "cell_type": "markdown",
      "source": [
        "а) Создайте трехмерный массив со случайными целыми числами и выполните транспонирование так, чтобы порядок осей стал обратным:"
      ],
      "metadata": {
        "id": "JOXkzj-tZ94e"
      }
    },
    {
      "cell_type": "code",
      "source": [
        "# Ваш код\n",
        "rand_int = np.random.randint(0, 101, size=(3, 4, 5))\n",
        "transposed_array = np.transpose(rand_int, (2, 1, 0))\n",
        "\n",
        "print(\"Исходный трехмерный массив:\\n\", rand_int)\n",
        "print(\"Транспонированный массив с обратным порядком осей:\\n\", transposed_array)"
      ],
      "metadata": {
        "id": "ioFsaDNUZ7ns",
        "colab": {
          "base_uri": "https://localhost:8080/"
        },
        "outputId": "cd72b72d-73cc-49dc-ed71-5047fb0d7c86"
      },
      "execution_count": null,
      "outputs": [
        {
          "output_type": "stream",
          "name": "stdout",
          "text": [
            "Исходный трехмерный массив:\n",
            " [[[55 47 70 70 25]\n",
            "  [70 20 66  2 44]\n",
            "  [ 5 29 56 41  7]\n",
            "  [ 9 83 25 25 58]]\n",
            "\n",
            " [[18 66 24 27 51]\n",
            "  [19 34 29 77 38]\n",
            "  [46 63 95 64 74]\n",
            "  [10 30  2 57  0]]\n",
            "\n",
            " [[21 38 45  3 86]\n",
            "  [21  2 41 76 53]\n",
            "  [45 36 69 30 63]\n",
            "  [89 18 85 83 14]]]\n",
            "Транспонированный массив с обратным порядком осей:\n",
            " [[[55 18 21]\n",
            "  [70 19 21]\n",
            "  [ 5 46 45]\n",
            "  [ 9 10 89]]\n",
            "\n",
            " [[47 66 38]\n",
            "  [20 34  2]\n",
            "  [29 63 36]\n",
            "  [83 30 18]]\n",
            "\n",
            " [[70 24 45]\n",
            "  [66 29 41]\n",
            "  [56 95 69]\n",
            "  [25  2 85]]\n",
            "\n",
            " [[70 27  3]\n",
            "  [ 2 77 76]\n",
            "  [41 64 30]\n",
            "  [25 57 83]]\n",
            "\n",
            " [[25 51 86]\n",
            "  [44 38 53]\n",
            "  [ 7 74 63]\n",
            "  [58  0 14]]]\n"
          ]
        }
      ]
    },
    {
      "cell_type": "markdown",
      "source": [
        "   б) Измените форму массива из предыдущего пункта так, чтобы получился двумерный массив (подумайте, как сохранить данные без потерь):"
      ],
      "metadata": {
        "id": "yKdG54bWZi_c"
      }
    },
    {
      "cell_type": "code",
      "source": [
        "# Ваш код\n",
        "reshaped_ints = np.reshape(rand_int, (10, 6))\n",
        "print(\"Двумерный массив после изменения формы:\\n\", reshaped_ints)"
      ],
      "metadata": {
        "id": "w58gedcvZjVH",
        "colab": {
          "base_uri": "https://localhost:8080/"
        },
        "outputId": "af7c7992-b65a-4827-e282-960e7738ac4a"
      },
      "execution_count": null,
      "outputs": [
        {
          "output_type": "stream",
          "name": "stdout",
          "text": [
            "Двумерный массив после изменения формы:\n",
            " [[55 47 70 70 25 70]\n",
            " [20 66  2 44  5 29]\n",
            " [56 41  7  9 83 25]\n",
            " [25 58 18 66 24 27]\n",
            " [51 19 34 29 77 38]\n",
            " [46 63 95 64 74 10]\n",
            " [30  2 57  0 21 38]\n",
            " [45  3 86 21  2 41]\n",
            " [76 53 45 36 69 30]\n",
            " [63 89 18 85 83 14]]\n"
          ]
        }
      ]
    },
    {
      "cell_type": "markdown",
      "source": [
        "```python\n",
        "# Входные данные:\n",
        "[\n",
        "  [\n",
        "    [1, 2, 3, 4],\n",
        "    [5, 6, 7, 8],\n",
        "    [9, 10, 11, 12]\n",
        "  ],\n",
        "  [\n",
        "    [13, 14, 15, 16],\n",
        "    [17, 18, 19, 20],\n",
        "    [21, 22, 23, 24]\n",
        "  ]\n",
        "]\n",
        "```\n",
        "\n",
        "\n",
        "```python\n",
        "# Выходные данные:\n",
        "[\n",
        "  [1, 2, 3, 4],\n",
        "  [5, 6, 7, 8],\n",
        "  [9, 10, 11, 12],\n",
        "  [13, 14, 15, 16],\n",
        "  [17, 18, 19, 20],\n",
        "  [21, 22, 23, 24]\n",
        "]\n",
        "```\n"
      ],
      "metadata": {
        "id": "9jZbvNPhkJ87"
      }
    },
    {
      "cell_type": "markdown",
      "source": [
        "### **Задание №2. Маскирование и фильтрация:**\n",
        "   а) Создайте массив со случайными целыми числами от -10 до 10. Затем, используя маскирование, замените все отрицательные числа на 0:\n"
      ],
      "metadata": {
        "id": "uDZ39yoRZLT9"
      }
    },
    {
      "cell_type": "code",
      "source": [
        "# Ваш код\n",
        "arr = np.random.randint(-10, 11, size=20)\n",
        "print('Исходный:\\n',arr)\n",
        "arr[arr < 0] = 0\n",
        "print('Измененный:\\n', arr)"
      ],
      "metadata": {
        "id": "1s_ih9NSaILQ",
        "colab": {
          "base_uri": "https://localhost:8080/"
        },
        "outputId": "742ca99f-dc23-4151-b139-2f9db916e698"
      },
      "execution_count": null,
      "outputs": [
        {
          "output_type": "stream",
          "name": "stdout",
          "text": [
            "Исходный:\n",
            " [-4 -7 -8  3  7  3  5 -4 -4  4  9 -8  9  3  5 10  4 -4 -4 10]\n",
            "Измененный:\n",
            " [ 0  0  0  3  7  3  5  0  0  4  9  0  9  3  5 10  4  0  0 10]\n"
          ]
        }
      ]
    },
    {
      "cell_type": "markdown",
      "source": [
        "   б) Создайте двумерный массив и найдите значения, которые больше среднего значения по всему массиву, и замените их на 1:"
      ],
      "metadata": {
        "id": "RIHVtToOZj-g"
      }
    },
    {
      "cell_type": "code",
      "source": [
        "# Ваш код\n",
        "rand = np.random.randint(0, 101, size=(4, 4))\n",
        "print(\"Исходный:\\n\", rand)\n",
        "\n",
        "mean_value = np.mean(random_array)\n",
        "print(\"Среднее:\\n\", mean_value)\n",
        "\n",
        "rand[random_array > mean_value] = 1\n",
        "print(\"Получившийся:\\n\", rand)"
      ],
      "metadata": {
        "id": "qJYIbewpZklS",
        "colab": {
          "base_uri": "https://localhost:8080/"
        },
        "outputId": "46f60a9a-1cc3-4264-ced9-b8ddcc9a5664"
      },
      "execution_count": null,
      "outputs": [
        {
          "output_type": "stream",
          "name": "stdout",
          "text": [
            "Исходный:\n",
            " [[34 43 51 22]\n",
            " [94 64 37  2]\n",
            " [61 99 14 23]\n",
            " [90 71 78  9]]\n",
            "Среднее:\n",
            " 61.1875\n",
            "Получившийся:\n",
            " [[ 1  1  1 22]\n",
            " [ 1 64 37  1]\n",
            " [ 1 99  1 23]\n",
            " [ 1  1  1  1]]\n"
          ]
        }
      ]
    },
    {
      "cell_type": "markdown",
      "source": [
        "### **Задание №3. Агрегирование данных:**\n"
      ],
      "metadata": {
        "id": "jzUTb1UdZPvc"
      }
    },
    {
      "cell_type": "markdown",
      "source": [
        "   а) Создайте двумерный массив со случайными числами. Вычислите сумму, среднее, максимум и минимум по столбцам и строкам:\n"
      ],
      "metadata": {
        "id": "xncfxKXjZnQd"
      }
    },
    {
      "cell_type": "code",
      "source": [
        "# Ваш код\n",
        "rand = np.random.randint(0, 101, size=(4, 4))\n",
        "print(\"Исходный:\\n\", rand)\n",
        "print('По столбцам \\n Сумма:', np.sum(rand, axis=0), '\\n Среднее:', np.mean(rand, axis=0), '\\n Макс:', np.max(rand, axis=0),'\\n Мин:', np.min(rand, axis=0))\n",
        "print('По строкам \\n Сумма:', np.sum(rand, axis=1), '\\n Среднее:', np.mean(rand, axis=1), '\\n Макс:', np.max(rand, axis=1),'\\n Мин:', np.min(rand, axis=1))"
      ],
      "metadata": {
        "id": "Jhd__GiPZons",
        "colab": {
          "base_uri": "https://localhost:8080/"
        },
        "outputId": "3165e9b1-0ed2-4139-98cc-54542b554804"
      },
      "execution_count": null,
      "outputs": [
        {
          "output_type": "stream",
          "name": "stdout",
          "text": [
            "Исходный:\n",
            " [[53 42 24 82]\n",
            " [28 30 52  9]\n",
            " [79 56 75 59]\n",
            " [61  2 62 99]]\n",
            "По столбцам \n",
            " Сумма: [221 130 213 249] \n",
            " Среднее: [55.25 32.5  53.25 62.25] \n",
            " Макс: [79 56 75 99] \n",
            " Мин: [28  2 24  9]\n",
            "По строкам \n",
            " Сумма: [201 119 269 224] \n",
            " Среднее: [50.25 29.75 67.25 56.  ] \n",
            " Макс: [82 52 79 99] \n",
            " Мин: [24  9 56  2]\n"
          ]
        }
      ]
    },
    {
      "cell_type": "markdown",
      "source": [
        "   б) Сгенерируйте массив случайных чисел и найдите дисперсию и стандартное отклонение:"
      ],
      "metadata": {
        "id": "Z1ZQ_12kZndL"
      }
    },
    {
      "cell_type": "code",
      "source": [
        "# Ваш код\n",
        "random_array = np.random.randint(0, 101, size=100)\n",
        "\n",
        "var_val = np.var(random_array)\n",
        "std_dev = np.std(random_array)\n",
        "\n",
        "\n",
        "print(\"Исходный:\\n\",random_array)\n",
        "print(\"Дисперсия:\", var_val)\n",
        "print(\"Стандартное отклонение:\", std_dev)"
      ],
      "metadata": {
        "id": "wn7uuevpZpLX",
        "colab": {
          "base_uri": "https://localhost:8080/"
        },
        "outputId": "644546a9-530f-4fc2-fa43-3c885a71272d"
      },
      "execution_count": null,
      "outputs": [
        {
          "output_type": "stream",
          "name": "stdout",
          "text": [
            "Исходный:\n",
            " [ 10  35  56  97  60  31  80  95   5  44  38  88  50  23   0  67  46  37\n",
            "   2   8  41   1  85   3  13  11  79  72  25  18  68  81  17 100  80  75\n",
            "  96  65  90  57  26  26  44  35  89  81  90  79  80  94  64  22  97  27\n",
            "  71  18  16  36  93  48  93  94  48  60  37  33  91  75  74  71  46  80\n",
            "  46  50  35  42  90  62  62  91  15  67  57  66  13  52  81  92  75  79\n",
            "  91  95  60  66  93  18  83   9  88  56]\n",
            "Дисперсия: 857.7659000000001\n",
            "Стандартное отклонение: 29.287640738031463\n"
          ]
        }
      ]
    },
    {
      "cell_type": "markdown",
      "source": [
        "### **Задание №4. Использование функций для работы с матрицами:**"
      ],
      "metadata": {
        "id": "2EvbQaTIZP4D"
      }
    },
    {
      "cell_type": "markdown",
      "source": [
        "   а) Используйте функцию [`np.linalg.eig`](https://numpy.org/doc/stable/reference/generated/numpy.linalg.eig.html#numpy.linalg.eig) для нахождения собственных значений и собственных векторов квадратной матрицы:"
      ],
      "metadata": {
        "id": "ag7Nzl9LZp23"
      }
    },
    {
      "cell_type": "code",
      "source": [
        "# Ваш код\n",
        "random_matrix = np.random.randint(0, 11, size=(3, 3))\n",
        "eigenvalues, eigenvectors = np.linalg.eig(random_matrix)\n",
        "\n",
        "print(\"Исходная матрица:\\n\", random_matrix)\n",
        "print(\"Собственные значения:\\n\", eigenvalues)\n",
        "print(\"Собственные векторы:\\n\", eigenvectors)"
      ],
      "metadata": {
        "id": "Cbts2xnoZqD8",
        "colab": {
          "base_uri": "https://localhost:8080/"
        },
        "outputId": "376ff5a7-8825-456a-a7c5-2678f73da278"
      },
      "execution_count": null,
      "outputs": [
        {
          "output_type": "stream",
          "name": "stdout",
          "text": [
            "Исходная матрица:\n",
            " [[ 5  0  8]\n",
            " [ 7 10  4]\n",
            " [ 3  5  6]]\n",
            "Собственные значения:\n",
            " [15.91566972+0.j         2.54216514+2.9354514j  2.54216514-2.9354514j]\n",
            "Собственные векторы:\n",
            " [[ 0.37020331+0.j          0.74931116+0.j          0.74931116-0.j        ]\n",
            " [ 0.77961278+0.j         -0.45179881-0.32529772j -0.45179881+0.32529772j]\n",
            " [ 0.50512713+0.j         -0.23021039+0.27494581j -0.23021039-0.27494581j]]\n"
          ]
        }
      ]
    },
    {
      "cell_type": "markdown",
      "source": [
        "   б) Решите систему линейных уравнений Ax = B, используя `np.linalg.solve`, где A и B — матрицы, заданные вами:"
      ],
      "metadata": {
        "id": "MUsFnJCgZqPV"
      }
    },
    {
      "cell_type": "code",
      "source": [
        "# Ваш код\n",
        "A = np.array([[3, 2, -1],\n",
        "              [2, -2, 4],\n",
        "              [-1, 0.5, -1]])\n",
        "\n",
        "B = np.array([1, -2, 0])\n",
        "x = np.linalg.solve(A, B)\n",
        "\n",
        "print(x)"
      ],
      "metadata": {
        "id": "6OoOaY0CZqaP",
        "colab": {
          "base_uri": "https://localhost:8080/"
        },
        "outputId": "734fec09-6289-4094-a8ac-fdcbb9ccf040"
      },
      "execution_count": null,
      "outputs": [
        {
          "output_type": "stream",
          "name": "stdout",
          "text": [
            "[ 1. -2. -2.]\n"
          ]
        }
      ]
    },
    {
      "cell_type": "markdown",
      "source": [
        "### **Задание №5. Работа с датасетом:**"
      ],
      "metadata": {
        "id": "UNeCynnjZQCt"
      }
    },
    {
      "cell_type": "markdown",
      "source": [
        "   а) Загрузите датасет [**fetch california housing**](https://www.kaggle.com/datasets/harrywang/housing):"
      ],
      "metadata": {
        "id": "FNVx80zxZrGU"
      }
    },
    {
      "cell_type": "code",
      "source": [
        "import numpy as np\n",
        "from sklearn.datasets import fetch_california_housing\n",
        "\n",
        "dataset = fetch_california_housing().data\n",
        "dataset = np.asarray(dataset, np.float64)"
      ],
      "metadata": {
        "id": "USeYuJeTcIpN"
      },
      "execution_count": null,
      "outputs": []
    },
    {
      "cell_type": "markdown",
      "source": [
        "б) Выведите первые 5 элементов датасета:"
      ],
      "metadata": {
        "id": "Mtk3ZvqmfCD-"
      }
    },
    {
      "cell_type": "code",
      "source": [
        "# Ваш код\n",
        "print(dataset[:5])"
      ],
      "metadata": {
        "id": "T-1eUOl7fHH1",
        "colab": {
          "base_uri": "https://localhost:8080/"
        },
        "outputId": "7b369a28-6ba9-4c4b-f0f9-914ac7e354d4"
      },
      "execution_count": null,
      "outputs": [
        {
          "output_type": "stream",
          "name": "stdout",
          "text": [
            "[[ 8.32520000e+00  4.10000000e+01  6.98412698e+00  1.02380952e+00\n",
            "   3.22000000e+02  2.55555556e+00  3.78800000e+01 -1.22230000e+02]\n",
            " [ 8.30140000e+00  2.10000000e+01  6.23813708e+00  9.71880492e-01\n",
            "   2.40100000e+03  2.10984183e+00  3.78600000e+01 -1.22220000e+02]\n",
            " [ 7.25740000e+00  5.20000000e+01  8.28813559e+00  1.07344633e+00\n",
            "   4.96000000e+02  2.80225989e+00  3.78500000e+01 -1.22240000e+02]\n",
            " [ 5.64310000e+00  5.20000000e+01  5.81735160e+00  1.07305936e+00\n",
            "   5.58000000e+02  2.54794521e+00  3.78500000e+01 -1.22250000e+02]\n",
            " [ 3.84620000e+00  5.20000000e+01  6.28185328e+00  1.08108108e+00\n",
            "   5.65000000e+02  2.18146718e+00  3.78500000e+01 -1.22250000e+02]]\n"
          ]
        }
      ]
    },
    {
      "cell_type": "markdown",
      "source": [
        "в) Выведите размерность датасета:"
      ],
      "metadata": {
        "id": "BLJAdC1LeJ1s"
      }
    },
    {
      "cell_type": "code",
      "source": [
        "# Ваш код\n",
        "print(\"Размерность датасета:\", dataset.shape)"
      ],
      "metadata": {
        "id": "s6KvaFj0cLlY",
        "colab": {
          "base_uri": "https://localhost:8080/"
        },
        "outputId": "f612362a-b359-4b33-fe58-022aa4f1b0b0"
      },
      "execution_count": null,
      "outputs": [
        {
          "output_type": "stream",
          "name": "stdout",
          "text": [
            "Размерность датасета: (20640, 8)\n"
          ]
        }
      ]
    },
    {
      "cell_type": "markdown",
      "source": [
        "г) Выведите общее количество элементов датасета:"
      ],
      "metadata": {
        "id": "_k_RyEbneb_u"
      }
    },
    {
      "cell_type": "code",
      "source": [
        "# Ваш код\n",
        "print(\"Количество элементов:\", dataset.size)"
      ],
      "metadata": {
        "id": "-4-6azzwcZgx",
        "colab": {
          "base_uri": "https://localhost:8080/"
        },
        "outputId": "5a16af3d-c6d2-4faf-f133-a689f1268ec9"
      },
      "execution_count": null,
      "outputs": [
        {
          "output_type": "stream",
          "name": "stdout",
          "text": [
            "Количество элементов: 165120\n"
          ]
        }
      ]
    },
    {
      "cell_type": "markdown",
      "source": [
        "д) Выведите тип данных элементов датасета:"
      ],
      "metadata": {
        "id": "exMDldCMeoOu"
      }
    },
    {
      "cell_type": "code",
      "source": [
        "# Ваш код\n",
        "print(\"Тип данных элементов массива:\", dataset.dtype)"
      ],
      "metadata": {
        "id": "Re6VGlefe2mp",
        "colab": {
          "base_uri": "https://localhost:8080/"
        },
        "outputId": "87a3bb6b-c43d-4f2e-a1c0-c92888aa6586"
      },
      "execution_count": null,
      "outputs": [
        {
          "output_type": "stream",
          "name": "stdout",
          "text": [
            "Тип данных элементов массива: float64\n"
          ]
        }
      ]
    },
    {
      "cell_type": "markdown",
      "source": [
        "е) Выведите количество измерений (осей) датасета:"
      ],
      "metadata": {
        "id": "-G5DnCl5eoY4"
      }
    },
    {
      "cell_type": "code",
      "source": [
        "# Ваш код\n",
        "print(\"Количество измерений:\", dataset.ndim)"
      ],
      "metadata": {
        "id": "vzMDlJ9je2Cl",
        "colab": {
          "base_uri": "https://localhost:8080/"
        },
        "outputId": "3fcbff09-4b7c-4100-b18d-6678ffa34adf"
      },
      "execution_count": null,
      "outputs": [
        {
          "output_type": "stream",
          "name": "stdout",
          "text": [
            "Количество измерений: 2\n"
          ]
        }
      ]
    },
    {
      "cell_type": "markdown",
      "source": [
        "ё) Выведите общее количество байт, занимаемых элементами датасета:"
      ],
      "metadata": {
        "id": "5C4KuSG1eoiQ"
      }
    },
    {
      "cell_type": "code",
      "source": [
        "# Ваш код\n",
        "print(\"Общее количество байт:\", dataset.nbytes)"
      ],
      "metadata": {
        "id": "fJ3OCXgufujn",
        "colab": {
          "base_uri": "https://localhost:8080/"
        },
        "outputId": "99ec8bc8-8326-4122-cfe2-e45418197911"
      },
      "execution_count": null,
      "outputs": [
        {
          "output_type": "stream",
          "name": "stdout",
          "text": [
            "Общее количество байт: 1320960\n"
          ]
        }
      ]
    },
    {
      "cell_type": "markdown",
      "source": [
        "ж) Выведите размер одного элемента датасета в байтах:"
      ],
      "metadata": {
        "id": "Qm7a9tdCftvd"
      }
    },
    {
      "cell_type": "code",
      "source": [
        "# Ваш код\n",
        "print(\"Размер одного элемента в байтах:\", dataset.itemsize)"
      ],
      "metadata": {
        "id": "1VC6YqJIZrRb",
        "colab": {
          "base_uri": "https://localhost:8080/"
        },
        "outputId": "c1670741-ca05-41e0-fc44-c05fd662942f"
      },
      "execution_count": null,
      "outputs": [
        {
          "output_type": "stream",
          "name": "stdout",
          "text": [
            "Размер одного элемента в байтах: 8\n"
          ]
        }
      ]
    },
    {
      "cell_type": "markdown",
      "source": [
        " з) Выполните нормализацию данных в **столбцах**, приведя их к диапазону от 0 до 1, написав для этого отдельную функцию, реализующую алгоритм MinMaxScaler:"
      ],
      "metadata": {
        "id": "SCKdhlineGVl"
      }
    },
    {
      "cell_type": "markdown",
      "source": [
        "Алгоритм MinMaxScaler является методом масштабирования, который линейно преобразует данные так, чтобы они помещались в заданный диапазон, обычно между 0 и 1. Это достигается путем вычитания минимального значения признака из каждого значения, а затем деления разности на размах значений (максимальное значение минус минимальное значение). Преобразование можно выразить следующей формулой:\n",
        "\n",
        "$X_{\\text{scaled}} = \\frac{X - X_{\\min}}{X_{\\max} - X_{\\min}}$\n",
        "\n",
        "Где:\n",
        "- $X$ — исходное значение признака,\n",
        "- $X_{\\min}$ — минимальное значение этого признака в наборе данных,\n",
        "- $X_{\\max}$ — максимальное значение признака в наборе данных,\n",
        "- $X_{\\text{scaled}}$ — масштабированное значение признака.\n",
        "\n",
        "Если требуется масштабировать данные в другой диапазон, например, $[a, b]$, то формула модифицируется:\n",
        "\n",
        "$X_{\\text{scaled}} = a + \\frac{(X - X_{\\min}) \\times (b - a)}{X_{\\max} - X_{\\min}}$"
      ],
      "metadata": {
        "id": "TXJTWqPOgilw"
      }
    },
    {
      "cell_type": "code",
      "source": [
        "# Ваш код\n",
        "def min_max_scaler(X, feature_range=(0, 1)):\n",
        "    a, b = feature_range\n",
        "    Xmin = np.min(X, axis=0)\n",
        "    Xmax = np.max(X, axis=0)\n",
        "\n",
        "    X_scaled = a + (X - Xmin) * (b - a) / (Xmax - Xmin)\n",
        "    return X_scaled\n",
        "\n",
        "data_scaled = min_max_scaler(dataset)\n",
        "print(\"Массив данных после нормализации:\\n\", data_scaled)"
      ],
      "metadata": {
        "id": "-8jxlJozhQT3",
        "colab": {
          "base_uri": "https://localhost:8080/"
        },
        "outputId": "9663dbc3-f0df-4de2-d0d7-99e14ab12189"
      },
      "execution_count": null,
      "outputs": [
        {
          "output_type": "stream",
          "name": "stdout",
          "text": [
            "Массив данных после нормализации:\n",
            " [[0.53966842 0.78431373 0.0435123  ... 0.00149943 0.5674814  0.21115538]\n",
            " [0.53802706 0.39215686 0.03822395 ... 0.00114074 0.565356   0.21215139]\n",
            " [0.46602805 1.         0.05275646 ... 0.00169796 0.5642933  0.21015936]\n",
            " ...\n",
            " [0.08276438 0.31372549 0.03090386 ... 0.0013144  0.73219979 0.31175299]\n",
            " [0.09429525 0.33333333 0.03178269 ... 0.0011515  0.73219979 0.30179283]\n",
            " [0.13025338 0.29411765 0.03125246 ... 0.00154886 0.72582359 0.30976096]]\n"
          ]
        }
      ]
    },
    {
      "cell_type": "markdown",
      "source": [
        "   и) Используйте логическую индексацию для фильтрации данных по заданному условию (например, выберите все строки, где значение в определённом столбце превышает среднее значение этого столбца и выведите их значение):"
      ],
      "metadata": {
        "id": "CD6Cw3NiZrbb"
      }
    },
    {
      "cell_type": "code",
      "source": [
        "# Ваш код\n",
        "def filter_by_column_mean(X, column_index):\n",
        "    column_mean = np.mean(X[:, column_index])\n",
        "    # выбираем строки, где значение в указанном столбце превышает среднее\n",
        "    filtered_rows = X[X[:, column_index] > column_mean]\n",
        "    return filtered_rows\n",
        "\n",
        "filtered_data = filter_by_column_mean(dataset, column_index=3)\n",
        "print(\"Отфильтрованные строки:\\n\", filtered_data)"
      ],
      "metadata": {
        "id": "ycAl9a4GZrlx",
        "colab": {
          "base_uri": "https://localhost:8080/"
        },
        "outputId": "91e0cd42-4a54-4455-908d-358717f10d3d"
      },
      "execution_count": null,
      "outputs": [
        {
          "output_type": "stream",
          "name": "stdout",
          "text": [
            "Отфильтрованные строки:\n",
            " [[   4.0368       52.            4.76165803 ...    2.13989637\n",
            "    37.85       -122.25      ]\n",
            " [   2.0804       42.            4.29411765 ...    2.02689076\n",
            "    37.84       -122.26      ]\n",
            " [   2.6736       52.            4.         ...    1.98275862\n",
            "    37.84       -122.26      ]\n",
            " ...\n",
            " [   1.7          17.            5.20554273 ...    2.3256351\n",
            "    39.43       -121.22      ]\n",
            " [   1.8672       18.            5.32951289 ...    2.12320917\n",
            "    39.43       -121.32      ]\n",
            " [   2.3886       16.            5.25471698 ...    2.61698113\n",
            "    39.37       -121.24      ]]\n"
          ]
        }
      ]
    },
    {
      "cell_type": "markdown",
      "source": [
        "### **Задание №6. Работа с многомерными данными:**"
      ],
      "metadata": {
        "id": "VuTukXmbYwgV"
      }
    },
    {
      "cell_type": "markdown",
      "source": [
        "Создайте двумерный массив и выполните \"сглаживание\" данных, заменив каждый элемент средним значением его и соседних элементов (по сторонам и по диагонали):"
      ],
      "metadata": {
        "id": "H_dh9nV6Zsdi"
      }
    },
    {
      "cell_type": "markdown",
      "source": [
        "\n",
        "\n",
        "```\n",
        "Original Array:\n",
        "[[1 2 3]\n",
        " [4 5 6]\n",
        " [7 8 9]]\n",
        "Smoothed Array:\n",
        "[[3 3 4]\n",
        " [4 5 5]\n",
        " [6 6 7]]\n",
        "```\n",
        "\n"
      ],
      "metadata": {
        "id": "Nvf05EOZNk7T"
      }
    },
    {
      "cell_type": "code",
      "source": [
        "# Ваш код\n",
        "def smooth_array(arr):\n",
        "    # Создаем массив для хранения сглаженных значений\n",
        "    smoothed_arr = np.zeros_like(arr, dtype=float)\n",
        "\n",
        "    # Размеры массива\n",
        "    rows, cols = arr.shape\n",
        "\n",
        "    # Проходим по каждому элементу массива\n",
        "    for i in range(rows):\n",
        "        for j in range(cols):\n",
        "            # Список для хранения значений соседей\n",
        "            neighbors = []\n",
        "\n",
        "            # Добавляем текущий элемент\n",
        "            neighbors.append(arr[i, j])\n",
        "\n",
        "            # Добавляем соседей сверху\n",
        "            if i > 0:\n",
        "                neighbors.append(arr[i-1, j])\n",
        "                if j > 0:\n",
        "                    neighbors.append(arr[i-1, j-1])\n",
        "                if j < cols - 1:\n",
        "                    neighbors.append(arr[i-1, j+1])\n",
        "\n",
        "            # Добавляем соседей снизу\n",
        "            if i < rows - 1:\n",
        "                neighbors.append(arr[i+1, j])\n",
        "                if j > 0:\n",
        "                    neighbors.append(arr[i+1, j-1])\n",
        "                if j < cols - 1:\n",
        "                    neighbors.append(arr[i+1, j+1])\n",
        "\n",
        "            # Добавляем соседей слева и справа\n",
        "            if j > 0:\n",
        "                neighbors.append(arr[i, j-1])\n",
        "            if j < cols - 1:\n",
        "                neighbors.append(arr[i, j+1])\n",
        "\n",
        "            # Вычисляем среднее значение и округляем\n",
        "            smoothed_arr[i, j] = np.floor(np.mean(neighbors))\n",
        "\n",
        "\n",
        "    # Преобразуем массив в целые числа\n",
        "    smoothed_arr = smoothed_arr.astype(int)\n",
        "\n",
        "    return smoothed_arr\n",
        "\n",
        "original_array = np.array([\n",
        "    [1, 2, 3],\n",
        "    [4, 5, 6],\n",
        "    [7, 8, 9]\n",
        "])\n",
        "\n",
        "print(\"Исходный массив:\\n\", original_array)\n",
        "\n",
        "smoothed_array = smooth_array(original_array)\n",
        "print(\"Сглаженный массив:\\n\", smoothed_array)"
      ],
      "metadata": {
        "id": "fNZ_d_pULPU0",
        "colab": {
          "base_uri": "https://localhost:8080/"
        },
        "outputId": "f8e80522-4f65-4d78-fbe4-54e3bde7e5fb"
      },
      "execution_count": null,
      "outputs": [
        {
          "output_type": "stream",
          "name": "stdout",
          "text": [
            "Исходный массив:\n",
            " [[1 2 3]\n",
            " [4 5 6]\n",
            " [7 8 9]]\n",
            "Сглаженный массив:\n",
            " [[3 3 4]\n",
            " [4 5 5]\n",
            " [6 6 7]]\n"
          ]
        }
      ]
    }
  ]
}